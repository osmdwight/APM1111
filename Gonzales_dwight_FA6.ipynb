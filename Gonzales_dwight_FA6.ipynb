{
 "cells": [
  {
   "cell_type": "code",
   "execution_count": 19,
   "id": "8edd143b",
   "metadata": {},
   "outputs": [
    {
     "data": {
      "text/html": [
       "<div>\n",
       "<style scoped>\n",
       "    .dataframe tbody tr th:only-of-type {\n",
       "        vertical-align: middle;\n",
       "    }\n",
       "\n",
       "    .dataframe tbody tr th {\n",
       "        vertical-align: top;\n",
       "    }\n",
       "\n",
       "    .dataframe thead th {\n",
       "        text-align: right;\n",
       "    }\n",
       "</style>\n",
       "<table border=\"1\" class=\"dataframe\">\n",
       "  <thead>\n",
       "    <tr style=\"text-align: right;\">\n",
       "      <th></th>\n",
       "      <th>Grade</th>\n",
       "      <th>Number of Students</th>\n",
       "      <th>Midpoint</th>\n",
       "    </tr>\n",
       "  </thead>\n",
       "  <tbody>\n",
       "    <tr>\n",
       "      <th>0</th>\n",
       "      <td>90-100</td>\n",
       "      <td>9</td>\n",
       "      <td>95.0</td>\n",
       "    </tr>\n",
       "    <tr>\n",
       "      <th>1</th>\n",
       "      <td>80-89</td>\n",
       "      <td>32</td>\n",
       "      <td>84.5</td>\n",
       "    </tr>\n",
       "    <tr>\n",
       "      <th>2</th>\n",
       "      <td>70-79</td>\n",
       "      <td>43</td>\n",
       "      <td>74.5</td>\n",
       "    </tr>\n",
       "    <tr>\n",
       "      <th>3</th>\n",
       "      <td>60-69</td>\n",
       "      <td>21</td>\n",
       "      <td>64.5</td>\n",
       "    </tr>\n",
       "    <tr>\n",
       "      <th>4</th>\n",
       "      <td>50-59</td>\n",
       "      <td>11</td>\n",
       "      <td>54.5</td>\n",
       "    </tr>\n",
       "    <tr>\n",
       "      <th>5</th>\n",
       "      <td>40-49</td>\n",
       "      <td>3</td>\n",
       "      <td>44.5</td>\n",
       "    </tr>\n",
       "    <tr>\n",
       "      <th>6</th>\n",
       "      <td>30-39</td>\n",
       "      <td>1</td>\n",
       "      <td>34.5</td>\n",
       "    </tr>\n",
       "  </tbody>\n",
       "</table>\n",
       "</div>"
      ],
      "text/plain": [
       "    Grade  Number of Students  Midpoint\n",
       "0  90-100                   9      95.0\n",
       "1   80-89                  32      84.5\n",
       "2   70-79                  43      74.5\n",
       "3   60-69                  21      64.5\n",
       "4   50-59                  11      54.5\n",
       "5   40-49                   3      44.5\n",
       "6   30-39                   1      34.5"
      ]
     },
     "execution_count": 19,
     "metadata": {},
     "output_type": "execute_result"
    }
   ],
   "source": [
    "import pandas as pd\n",
    "\n",
    "data = {\n",
    "    \"Grade\": [\"90-100\", \"80-89\", \"70-79\", \"60-69\", \"50-59\", \"40-49\", \"30-39\"],\n",
    "    \"Number of Students\": [9, 32, 43, 21, 11, 3, 1]\n",
    "}\n",
    "df = pd.DataFrame(data)\n",
    "\n",
    "def calculate_midpoint(grade_range):\n",
    "    low, high = map(int, grade_range.split('-'))\n",
    "    return (low + high) / 2\n",
    "df['Midpoint'] = df['Grade'].apply(calculate_midpoint)\n",
    "\n",
    "df\n"
   ]
  },
  {
   "cell_type": "code",
   "execution_count": 26,
   "id": "05c74641",
   "metadata": {},
   "outputs": [
    {
     "name": "stdout",
     "output_type": "stream",
     "text": [
      "{'The Q1 is located at: ': 49.5, 'The Q2 is located at: ': 64.5, 'The Q3 is located at: ': 79.5}\n"
     ]
    }
   ],
   "source": [
    "quartiles = df['Midpoint'].quantile([0.25, 0.5, 0.75])\n",
    "\n",
    "\n",
    "quartiles_output = {\n",
    "    'The Q1 is located at: ': quartiles[0.25],\n",
    "    'The Q2 is located at: ': quartiles[0.5],\n",
    "    'The Q3 is located at: ': quartiles[0.75]\n",
    "}\n",
    "print(quartiles_output)\n"
   ]
  },
  {
   "cell_type": "code",
   "execution_count": 34,
   "id": "a4ff5f9c",
   "metadata": {},
   "outputs": [
    {
     "name": "stdout",
     "output_type": "stream",
     "text": [
      "The absolute dispersion of Statistics is 8.0 and 7.6 of Algebra. Therefore, the subject Calculus has smaller absolute dispersion.\n"
     ]
    }
   ],
   "source": [
    "mean_grade_stats = 78\n",
    "standard_deviation_stats = 8.0\n",
    "mean_grade_algebra = 73\n",
    "standard_deviation_algebra = 7.6\n",
    "\n",
    "print(f\"The absolute dispersion of Statistics is {standard_deviation_stats} and \"\n",
    "      f\"{standard_deviation_algebra} of Algebra. Therefore, the subject Calculus has smaller absolute dispersion.\")"
   ]
  },
  {
   "cell_type": "code",
   "execution_count": 36,
   "id": "177a0027",
   "metadata": {},
   "outputs": [
    {
     "name": "stdout",
     "output_type": "stream",
     "text": [
      "The relative dispersion of Statistics is 10.26% and 10.41% of Algebra. Therefore, the subject Algebra has higher.\n"
     ]
    }
   ],
   "source": [
    "mean_grade_stats = 78\n",
    "standard_deviation_stats = 8.0\n",
    "mean_grade_algebra = 73\n",
    "standard_deviation_algebra = 7.6\n",
    "\n",
    "variation_stats = (standard_deviation_stats / mean_grade_stats) * 100\n",
    "variation_algebra = (standard_deviation_algebra / mean_grade_algebra) * 100\n",
    "\n",
    "print(f\"The relative dispersion of Statistics is {variation_stats:.2f}% and \"\n",
    "      f\"{variation_algebra:.2f}% of Algebra. Therefore, the subject Algebra has higher.\")\n"
   ]
  },
  {
   "cell_type": "code",
   "execution_count": 58,
   "id": "d5f327f4",
   "metadata": {},
   "outputs": [
    {
     "name": "stdout",
     "output_type": "stream",
     "text": [
      "The mean is: 5.60\n",
      "The standard deviation is: 2.06\n",
      "For 6, the standard score is: 0.19\n",
      "For 2, the standard score is: -1.75\n",
      "For 8, the standard score is: 1.17\n",
      "For 7, the standard score is: 0.68\n",
      "For 5, the standard score is: -0.29\n",
      "The mean of the z-scores is: 0.00\n",
      "The standard deviation of the z-scores is: 1.00\n"
     ]
    }
   ],
   "source": [
    "import numpy as np\n",
    "\n",
    "set_score = np.array([6, 2, 8, 7, 5])\n",
    "\n",
    "total_sum = 0\n",
    "for score in set_score:\n",
    "    total_sum += score  \n",
    "\n",
    "mean = total_sum / len(set_score)\n",
    "\n",
    "std_set_score = np.std(set_score)\n",
    "\n",
    "standard_scores = []\n",
    "for i in set_score:\n",
    "    z_score = (i - mean) / std_set_score \n",
    "    standard_scores.append(z_score) \n",
    "\n",
    "mean_z_score = np.mean(standard_scores)\n",
    "\n",
    "std_z_score = np.std(standard_scores)\n",
    "\n",
    "\n",
    "print(f\"The mean is: {mean:.2f}\")\n",
    "print(f\"The standard deviation is: {std_set_score:.2f}\")\n",
    "for i, score in enumerate(set_score):\n",
    "    print(f\"For {score}, the standard score is: {standard_scores[i]:.2f}\")\n",
    "print(f\"The mean of the z-scores is: {mean_z_score:.2f}\")\n",
    "print(f\"The standard deviation of the z-scores is: {std_z_score:.2f}\")\n",
    "\n",
    "\n",
    "\n",
    "\n",
    "\n",
    "\n"
   ]
  },
  {
   "cell_type": "code",
   "execution_count": 63,
   "id": "d2e419ef",
   "metadata": {},
   "outputs": [
    {
     "name": "stdout",
     "output_type": "stream",
     "text": [
      "Mean: 12.00\n",
      "Variance: 10.80\n",
      "\n",
      "Sample Means and Probabilities:\n",
      "Mean: 6.00, Probability: 0.01\n",
      "Mean: 7.50, Probability: 0.04\n",
      "Mean: 9.00, Probability: 0.12\n",
      "Mean: 10.50, Probability: 0.20\n",
      "Mean: 12.00, Probability: 0.26\n",
      "Mean: 13.50, Probability: 0.20\n",
      "Mean: 15.00, Probability: 0.12\n",
      "Mean: 16.50, Probability: 0.04\n",
      "Mean: 18.00, Probability: 0.01\n"
     ]
    }
   ],
   "source": [
    "import numpy as np\n",
    "\n",
    "masses = np.array([20.48, 35.97, 62.34])\n",
    "std_devs = np.array([0.21, 0.46, 0.54])\n",
    "\n",
    "mean_sum = np.sum(masses)\n",
    "std_dev_sum = np.sqrt(np.sum(std_devs**2))\n",
    "\n",
    "\n",
    "print(f\"Mean of the sum of the masses: {mean_sum:.2f} g\")\n",
    "print(f\"Standard deviation of the sum of the masses: {std_dev_sum:.2f} g\")\n",
    "\n"
   ]
  },
  {
   "cell_type": "code",
   "execution_count": 65,
   "id": "dc584341",
   "metadata": {},
   "outputs": [
    {
     "name": "stdout",
     "output_type": "stream",
     "text": [
      "Mean (𝜇): 10.20\n",
      "Variance (𝜎²): 7.96\n",
      "\n",
      "Sample Means and Probabilities:\n",
      "   Sample Mean  Probability\n",
      "0          6.0         0.01\n",
      "1          7.5         0.04\n",
      "2          9.0         0.12\n",
      "3         10.5         0.20\n",
      "4         12.0         0.24\n",
      "5         13.5         0.16\n",
      "6         15.0         0.04\n",
      "7         16.5         0.00\n",
      "8         18.0         0.00\n"
     ]
    }
   ],
   "source": [
    "import numpy as np\n",
    "import itertools\n",
    "import pandas as pd\n",
    "\n",
    "\n",
    "x = np.array([6, 9, 12, 15, 18])\n",
    "p = np.array([0.1, 0.2, 0.4, 0.2, 0.0])\n",
    "\n",
    "\n",
    "mean = np.sum(x * p)\n",
    "variance = np.sum(p * (x - mean)**2)\n",
    "samples = list(itertools.product(x, repeat=2))\n",
    "\n",
    "\n",
    "sample_means = {}\n",
    "for sample in samples:\n",
    "    mean_sample = np.mean(sample)\n",
    "    prob = p[x == sample[0]].item() * p[x == sample[1]].item()  \n",
    "    if mean_sample in sample_means:\n",
    "        sample_means[mean_sample] += prob\n",
    "    else:\n",
    "        sample_means[mean_sample] = prob\n",
    "\n",
    "\n",
    "results = pd.DataFrame(list(sample_means.items()), columns=['Sample Mean', 'Probability'])\n",
    "\n",
    "\n",
    "print(f\"Mean (𝜇): {mean:.2f}\")\n",
    "print(f\"Variance (𝜎²): {variance:.2f}\")\n",
    "print(\"\\nSample Means and Probabilities:\")\n",
    "print(results)\n",
    "\n",
    "\n"
   ]
  },
  {
   "cell_type": "code",
   "execution_count": null,
   "id": "018cc07b",
   "metadata": {},
   "outputs": [],
   "source": []
  }
 ],
 "metadata": {
  "kernelspec": {
   "display_name": "Python 3 (ipykernel)",
   "language": "python",
   "name": "python3"
  },
  "language_info": {
   "codemirror_mode": {
    "name": "ipython",
    "version": 3
   },
   "file_extension": ".py",
   "mimetype": "text/x-python",
   "name": "python",
   "nbconvert_exporter": "python",
   "pygments_lexer": "ipython3",
   "version": "3.9.13"
  }
 },
 "nbformat": 4,
 "nbformat_minor": 5
}
