{
 "cells": [
  {
   "cell_type": "markdown",
   "id": "dad5c397",
   "metadata": {},
   "source": [
    "# SUMMATIVE ASSESMENT 1"
   ]
  },
  {
   "cell_type": "markdown",
   "id": "6cbadb33",
   "metadata": {},
   "source": [
    "### Rationale for Hyphothesis Test\n",
    "\n"
   ]
  },
  {
   "cell_type": "markdown",
   "id": "23f10479",
   "metadata": {},
   "source": [
    "The researcher can conduct a hypothesis test to compare the mean time spent on cell phones by male and female college students. The null hypothesis (H0) would state that the mean times for males and females are equal, while the alternative hypothesis (H1) would state that the mean times are not equal. The rationale for this test is to determine if there is a statistically significant difference between the two groups (male and female)  phone usage, which could reflect behavioral differences between male and female students. An independent two-sample t-test will be used to compare the means, with a significance level of 0.05, allowing the researcher to conclude whether any observed difference is due to random variation or reflects a real difference in the population."
   ]
  },
  {
   "cell_type": "code",
   "execution_count": 4,
   "id": "8a8f08d5",
   "metadata": {},
   "outputs": [
    {
     "name": "stdout",
     "output_type": "stream",
     "text": [
      "Test statistic (t-value): 0.30394907866566184\n",
      "p-value: 0.7618111039906375\n",
      "Fail to reject the null hypothesis.\n",
      "The mean number of hours male students and female students spend talking on their cellphones are equal.\n"
     ]
    }
   ],
   "source": [
    "import numpy as np\n",
    "import scipy.stats as stats\n",
    "from scipy.stats import shapiro\n",
    "from numpy.random import randn\n",
    "\n",
    "males_data = np.array([12,7,7,10,8,10,11,9,9,13,4,9,12,11,9,9,7,12,10,13,11,10,6,12,11,9,10,12,8,9,13,10,9,7,10,7,10,8,11,10,11,7,15,8,9,9,11,13,10,13])\n",
    "\n",
    "females_data = np.array([11,10,11,10,11,12,12,10,9,9,9,10,8,7,12,9,7,8,9,8,7,7,9,9,12,10,9,13,9,9,10,9,6,12,8,11,8,8,11,12,9,10,11,14,12,7,11,10,9,11])\n",
    "\n",
    "# null hypothesis\n",
    "H0 = \"The mean number of hours male students and female students spend talking on their cellphones are equal.\"\n",
    "\n",
    "# alternative hypothesis\n",
    "H1 = \"The mean number of hours male students and female students spend talking on their cellphones are not equal.\"\n",
    "\n",
    "t_stat, p_value = stats.ttest_ind(males_data, females_data)\n",
    "\n",
    "print(\"Test statistic (t-value):\", t_stat)\n",
    "print(\"p-value:\", p_value)\n",
    "\n",
    "alpha = 0.05  # Significance level\n",
    "if p_value < alpha:\n",
    "    print(\"Reject the null hypothesis.\")\n",
    "    print(H1)\n",
    "else:\n",
    "    print(\"Fail to reject the null hypothesis.\")\n",
    "    print(H0)\n",
    "    \n",
    "\n"
   ]
  },
  {
   "cell_type": "markdown",
   "id": "09a52c3d",
   "metadata": {},
   "source": [
    "### Hyphothesis Conclusion and P-Value, What can we conclude?"
   ]
  },
  {
   "cell_type": "markdown",
   "id": "efdb312c",
   "metadata": {},
   "source": [
    "A p-value greater than 0.05 means that deviation from the null hypothesis is not statistically significant, and the null hypothesis is not rejected.\n",
    "\n",
    "P-Value provides a measure of how much evidence there is to reject the null hypothesis. The smaller the p-value, the greater the evidence against the null hypothesis.\n",
    "\n",
    "In practice, the significance level is stated in advance to determine how small the p-value must be to reject the null hypothesis. Because different researchers use different levels of significance when examining a question.\n",
    "\n",
    "In this Hyphothesis Testing, we choose 95% as our level of confidence). It gives us a conclusion that our data is not statistically significant, it means that the results in the data are explainable by chance alone.\n",
    "\n",
    "There is not enough evidence to conclude that the mean number of hours male and female students spend talking on their cellphones are different. Based on this analysis, the researcher should maintain the assumption that the means are equal. \n"
   ]
  },
  {
   "cell_type": "code",
   "execution_count": 19,
   "id": "a7a063ff",
   "metadata": {},
   "outputs": [
    {
     "name": "stdout",
     "output_type": "stream",
     "text": [
      "Descriptive statistics for males:\n",
      "count    50.00\n",
      "mean      9.82\n",
      "std       2.15\n",
      "min       4.00\n",
      "25%       9.00\n",
      "50%      10.00\n",
      "75%      11.00\n",
      "max      15.00\n",
      "dtype: float64\n",
      "\n",
      "Descriptive statistics for females:\n",
      "count    50.00\n",
      "mean      9.70\n",
      "std       1.78\n",
      "min       6.00\n",
      "25%       9.00\n",
      "50%       9.50\n",
      "75%      11.00\n",
      "max      14.00\n",
      "dtype: float64\n"
     ]
    }
   ],
   "source": [
    "import pandas as pd\n",
    "\n",
    "males_series = pd.Series(males_data)\n",
    "females_series = pd.Series(females_data)\n",
    "\n",
    "print(\"Descriptive statistics for males:\")\n",
    "print(males_series.describe().round(2))\n",
    "\n",
    "print(\"\\nDescriptive statistics for females:\")\n",
    "print(females_series.describe().round(2))\n"
   ]
  },
  {
   "cell_type": "markdown",
   "id": "d928527f",
   "metadata": {},
   "source": [
    "###  95% confidence interval for the population mean of each gender category and for the difference between the means of the two populations"
   ]
  },
  {
   "cell_type": "code",
   "execution_count": 14,
   "id": "48c9071b",
   "metadata": {},
   "outputs": [
    {
     "name": "stdout",
     "output_type": "stream",
     "text": [
      "95% CI for Males: (9.207794314064703, 10.432205685935298)\n",
      "95% CI for Females: (9.19535558679254, 10.20464441320746)\n",
      "95% CI for the difference in means: (-0.6634736514965714, 0.9034736514965734)\n"
     ]
    }
   ],
   "source": [
    "def confidence_interval(data, confidence=0.95):\n",
    "    n = len(data)\n",
    "    mean = np.mean(data)\n",
    "    sem = stats.sem(data) \n",
    "    critical_value = stats.t.ppf((1 + confidence) / 2, n - 1)  \n",
    "    margin_of_error = critical_value * sem\n",
    "    return mean - margin_of_error, mean + margin_of_error\n",
    "\n",
    "# Calculate confidence intervals for both groups\n",
    "males_ci = confidence_interval(males_data)\n",
    "females_ci = confidence_interval(females_data)\n",
    "\n",
    "# Calculate confidence interval for the difference between means\n",
    "mean_difference = np.mean(males_data) - np.mean(females_data)\n",
    "pooled_std_dev = np.sqrt((np.std(males_data, ddof=1)**2 / len(males_data)) + (np.std(females_data, ddof=1)**2 / len(females_data)))\n",
    "critical_value_diff = stats.t.ppf((1 + 0.95) / 2, len(males_data) + len(females_data) - 2)\n",
    "margin_of_error_diff = critical_value_diff * pooled_std_dev\n",
    "diff_ci = (mean_difference - margin_of_error_diff, mean_difference + margin_of_error_diff)\n",
    "\n",
    "print(f\"95% CI for Males: {males_ci}\")\n",
    "print(f\"95% CI for Females: {females_ci}\")\n",
    "print(f\"95% CI for the difference in means: {diff_ci}\")\n",
    "\n"
   ]
  },
  {
   "cell_type": "markdown",
   "id": "458aaa87",
   "metadata": {},
   "source": [
    "### Key Findings:\n",
    "\n",
    "\n",
    "#### Test Results:\n",
    "\n",
    "The t-value of 0.304 and a p-value of 0.762 indicate that there is no statistically significant difference between the means of cellphone usage for male and female students. We fail to reject the null hypothesis, suggesting that both groups spend similar amounts of time on their cellphones.\n",
    "\n",
    "#### Descriptive Statistics:\n",
    "\n",
    "The means for males (9.82 hours) and females (9.70 hours) are quite close, with the standard deviations also showing a relatively small variation in each group (2.15 for males and 1.78 for females).\n",
    "\n",
    "#### Confidence Intervals (CIs):\n",
    "\n",
    "The 95% CIs for both males (9.21, 10.43) and females (9.20, 10.20) overlap, reinforcing the conclusion that there is no significant difference in means. The CI for the difference in means (-0.66, 0.90) also includes zero, which indicates no significant effect."
   ]
  },
  {
   "cell_type": "markdown",
   "id": "f5199444",
   "metadata": {},
   "source": [
    "### Do you see a need for larger sample sizes and more testing with the time spent on cell phones? Discuss."
   ]
  },
  {
   "cell_type": "markdown",
   "id": "db5d79bb",
   "metadata": {},
   "source": [
    "As discussed, the results indicate that there is no statistically significant difference in cellphone usage between male and female students,  by the p-value of 0.761. This suggests that a larger sample size is necessary to detect any potential differences between groups accurately.\n",
    "\n",
    "The current sample size of 50 for each gender may not capture the variability in cellphone usage adequately, the standard deviations: 2.15 for males and 1.78 for females. These values indicate some variability in how much time students spend on their phones, which larger samples could help clarify.\n",
    "\n",
    "A larger sample size would not only enhance the precision of the estimates but also reduce the likelihood of sampling errors, providing a more accurate representation of the population. However, we must also consider practical constraints, such as time and resources, when aiming for a larger sample.\n",
    "\n",
    "Additionally, factors like age, study load, and access to technology could significantly impact cellphone usage patterns. By including these variables in future studies, we could gain deeper insights into the behaviors affecting cellphone usage among students. Overall, the combination of a larger sample and consideration of these factors could lead to a more comprehensive understanding of cellphone usage differences between genders."
   ]
  },
  {
   "cell_type": "markdown",
   "id": "b648069e",
   "metadata": {},
   "source": [
    "### Report including the testing of the assumptions for two independent samples t-test.\n"
   ]
  },
  {
   "cell_type": "markdown",
   "id": "ab4612f6",
   "metadata": {},
   "source": [
    "#### Assumptions:\n",
    "\n",
    "- Random samples\n",
    "- Independent observations\n",
    "- The population of each group is normally distributed.\n",
    "- The population variances are equal."
   ]
  },
  {
   "cell_type": "code",
   "execution_count": 20,
   "id": "c72b0968",
   "metadata": {},
   "outputs": [
    {
     "name": "stdout",
     "output_type": "stream",
     "text": [
      "Shapiro-Wilk Test for Normality:\n",
      "  Males: Statistic = 0.9747, p-value = 0.3540\n",
      "  Females: Statistic = 0.9639, p-value = 0.1292\n",
      "\n",
      "Levene's Test for Homogeneity of Variances:\n",
      "  Statistic = 0.6943, p-value = 0.4067\n",
      "\n",
      "Independent Samples T-Test:\n",
      "  Statistic = 0.3039, p-value = 0.7618\n"
     ]
    }
   ],
   "source": [
    "\n",
    "#  Test for normality\n",
    "shapiro_males = stats.shapiro(males_data)\n",
    "shapiro_females = stats.shapiro(females_data)\n",
    "\n",
    "# Test for homogeneity of variances \n",
    "levene_test = stats.levene(males_data, females_data)\n",
    "\n",
    "# 3. Perform the t-test\n",
    "t_test_result = stats.ttest_ind(males_data, females_data)\n",
    "\n",
    "\n",
    "print(\"Shapiro-Wilk Test for Normality:\")\n",
    "print(f\"  Males: Statistic = {shapiro_males.statistic:.4f}, p-value = {shapiro_males.pvalue:.4f}\")\n",
    "print(f\"  Females: Statistic = {shapiro_females.statistic:.4f}, p-value = {shapiro_females.pvalue:.4f}\")\n",
    "print(\"\\nLevene's Test for Homogeneity of Variances:\")\n",
    "print(f\"  Statistic = {levene_test.statistic:.4f}, p-value = {levene_test.pvalue:.4f}\")\n",
    "print(\"\\nIndependent Samples T-Test:\")\n",
    "print(f\"  Statistic = {t_test_result.statistic:.4f}, p-value = {t_test_result.pvalue:.4f}\")\n"
   ]
  },
  {
   "cell_type": "markdown",
   "id": "4ec4f3d9",
   "metadata": {},
   "source": [
    "- Independence:\n",
    "     Since these data points represent different individuals in separate groups, this assumption is satisfied.\n",
    "- Normality:\n",
    "    The p-values for both the male and female groups are greater than 0.05. This indicates that we fail to reject the null hypothesis of normality for both groups. Thus, we can assume that both samples are normally distributed.\n",
    "    \n",
    "    \n",
    "- Variance:\n",
    "    The p-value is greater than 0.05, suggesting that we fail to reject the null hypothesis that the variances are equal. Therefore, we can assume that the variances of the two groups (males and females) are homogeneous.\n",
    "    \n",
    "    \n",
    "- T-test:\n",
    "    The p-value is significantly greater than 0.05, indicating that we fail to reject the null hypothesis of equal means. This suggests that there is no statistically significant difference in the mean number of hours spent talking on cellphones between male and female students."
   ]
  },
  {
   "cell_type": "code",
   "execution_count": null,
   "id": "5e10bc9c",
   "metadata": {},
   "outputs": [],
   "source": []
  }
 ],
 "metadata": {
  "kernelspec": {
   "display_name": "Python 3 (ipykernel)",
   "language": "python",
   "name": "python3"
  },
  "language_info": {
   "codemirror_mode": {
    "name": "ipython",
    "version": 3
   },
   "file_extension": ".py",
   "mimetype": "text/x-python",
   "name": "python",
   "nbconvert_exporter": "python",
   "pygments_lexer": "ipython3",
   "version": "3.9.13"
  }
 },
 "nbformat": 4,
 "nbformat_minor": 5
}
