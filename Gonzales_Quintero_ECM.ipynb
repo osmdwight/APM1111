{
 "cells": [
  {
   "cell_type": "code",
   "execution_count": null,
   "id": "fc4b247e",
   "metadata": {},
   "outputs": [],
   "source": [
    "\n",
    "\n",
    "\n"
   ]
  },
  {
   "cell_type": "code",
   "execution_count": null,
   "id": "28656d48",
   "metadata": {},
   "outputs": [],
   "source": [
    "\n"
   ]
  },
  {
   "cell_type": "code",
   "execution_count": null,
   "id": "56c73ad9",
   "metadata": {},
   "outputs": [],
   "source": [
    "\n"
   ]
  },
  {
   "cell_type": "code",
   "execution_count": null,
   "id": "b67bcd8c",
   "metadata": {},
   "outputs": [],
   "source": [
    "\n"
   ]
  },
  {
   "cell_type": "code",
   "execution_count": 25,
   "id": "499d2ee0",
   "metadata": {},
   "outputs": [
    {
     "name": "stdout",
     "output_type": "stream",
     "text": [
      "[('Marcos', 'Marcos', 'Marcos', 'Marcos'), ('Marcos', 'Marcos', 'Marcos', 'Robredo'), ('Marcos', 'Marcos', 'Marcos', 'Robredo'), ('Marcos', 'Marcos', 'Marcos', 'Robredo'), ('Marcos', 'Marcos', 'Marcos', 'Robredo'), ('Marcos', 'Marcos', 'Robredo', 'Robredo'), ('Marcos', 'Marcos', 'Marcos', 'Robredo'), ('Marcos', 'Marcos', 'Marcos', 'Robredo'), ('Marcos', 'Marcos', 'Robredo', 'Robredo'), ('Marcos', 'Marcos', 'Robredo', 'Robredo'), ('Marcos', 'Marcos', 'Marcos', 'Robredo'), ('Marcos', 'Marcos', 'Marcos', 'Robredo'), ('Marcos', 'Marcos', 'Robredo', 'Robredo'), ('Marcos', 'Marcos', 'Robredo', 'Robredo'), ('Marcos', 'Marcos', 'Robredo', 'Robredo')]\n",
      "0.5\n",
      "0.5\n"
     ]
    }
   ],
   "source": [
    "import numpy as np\n",
    "import pandas as pd\n",
    "from itertools import combinations\n",
    "from collections import Counter\n",
    "\n",
    "\n",
    "population = ['Marcos', 'Marcos', 'Marcos', 'Marcos', 'Robredo', 'Robredo']\n",
    "sample_size = 4\n",
    "all_samples = list(combinations(population, sample_size))\n",
    "\n",
    "\n",
    "print(all_samples)\n",
    "for sample in all_samples:\n",
    "    counts = Counter(sample)\n",
    "    \n",
    "\n",
    "\n"
   ]
  },
  {
   "cell_type": "code",
   "execution_count": 27,
   "id": "56beeed1",
   "metadata": {},
   "outputs": [
    {
     "name": "stdout",
     "output_type": "stream",
     "text": [
      "Sampling Distribution (all possible samples):\n",
      "         1       2        3        4  Proportion_Robredo  Proportion_Marcos\n",
      "0   Marcos  Marcos   Marcos   Marcos                0.00               1.00\n",
      "1   Marcos  Marcos   Marcos  Robredo                0.25               0.75\n",
      "2   Marcos  Marcos   Marcos  Robredo                0.25               0.75\n",
      "3   Marcos  Marcos   Marcos  Robredo                0.25               0.75\n",
      "4   Marcos  Marcos   Marcos  Robredo                0.25               0.75\n",
      "5   Marcos  Marcos  Robredo  Robredo                0.50               0.50\n",
      "6   Marcos  Marcos   Marcos  Robredo                0.25               0.75\n",
      "7   Marcos  Marcos   Marcos  Robredo                0.25               0.75\n",
      "8   Marcos  Marcos  Robredo  Robredo                0.50               0.50\n",
      "9   Marcos  Marcos  Robredo  Robredo                0.50               0.50\n",
      "10  Marcos  Marcos   Marcos  Robredo                0.25               0.75\n",
      "11  Marcos  Marcos   Marcos  Robredo                0.25               0.75\n",
      "12  Marcos  Marcos  Robredo  Robredo                0.50               0.50\n",
      "13  Marcos  Marcos  Robredo  Robredo                0.50               0.50\n",
      "14  Marcos  Marcos  Robredo  Robredo                0.50               0.50\n",
      "\n",
      "Mean Proportions:\n",
      "Mean Proportion of 'Robredo': 0.33\n",
      "Mean Proportion of 'Marcos': 0.67\n"
     ]
    }
   ],
   "source": [
    "import numpy as np\n",
    "import pandas as pd\n",
    "from itertools import combinations\n",
    "from collections import Counter\n",
    "\n",
    "\n",
    "population = ['Marcos', 'Marcos', 'Marcos', 'Marcos', 'Robredo', 'Robredo']\n",
    "sample_size = 4\n",
    "all_samples = list(combinations(population, sample_size))\n",
    "\n",
    "\n",
    "results = []\n",
    "\n",
    "\n",
    "for sample in all_samples:\n",
    "    counts = Counter(sample)\n",
    "    prop_robredo = counts['Robredo'] / sample_size\n",
    "    prop_marcos = counts['Marcos'] / sample_size\n",
    "    results.append(sample + (prop_robredo, prop_marcos))\n",
    "\n",
    "columns = [f'{i+1}' for i in range(sample_size)] + ['Proportion_Robredo', 'Proportion_Marcos']\n",
    "df_results = pd.DataFrame(results, columns=columns)\n",
    "\n",
    "\n",
    "print(\"Sampling Distribution (all possible samples):\")\n",
    "print(df_results)\n",
    "\n",
    "\n",
    "mean_prop_robredo = df_results['Proportion_Robredo'].mean()\n",
    "mean_prop_marcos = df_results['Proportion_Marcos'].mean()\n",
    "\n",
    "print(\"\\nMean Proportions:\")\n",
    "print(f\"Mean Proportion of 'Robredo': {mean_prop_robredo:.2f}\")\n",
    "print(f\"Mean Proportion of 'Marcos': {mean_prop_marcos:.2f}\")\n"
   ]
  },
  {
   "cell_type": "code",
   "execution_count": null,
   "id": "8678effa",
   "metadata": {},
   "outputs": [],
   "source": []
  }
 ],
 "metadata": {
  "kernelspec": {
   "display_name": "Python 3 (ipykernel)",
   "language": "python",
   "name": "python3"
  },
  "language_info": {
   "codemirror_mode": {
    "name": "ipython",
    "version": 3
   },
   "file_extension": ".py",
   "mimetype": "text/x-python",
   "name": "python",
   "nbconvert_exporter": "python",
   "pygments_lexer": "ipython3",
   "version": "3.9.13"
  }
 },
 "nbformat": 4,
 "nbformat_minor": 5
}
