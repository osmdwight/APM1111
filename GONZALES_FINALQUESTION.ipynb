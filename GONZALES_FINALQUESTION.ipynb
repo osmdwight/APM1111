{
 "cells": [
  {
   "cell_type": "code",
   "execution_count": 3,
   "id": "7899a33f-8756-4d5a-a937-841157627242",
   "metadata": {},
   "outputs": [],
   "source": [
    "import pandas as pd\n",
    "import numpy as np\n",
    "from scipy.stats import levene, shapiro\n",
    "import statsmodels.api as sm\n",
    "from statsmodels.formula.api import ols\n",
    "import matplotlib.pyplot as plt\n",
    "import seaborn as sns\n",
    "from scipy.stats import levene\n",
    "from scipy import stats \n",
    "from statsmodels.stats.anova import anova_lm"
   ]
  },
  {
   "cell_type": "code",
   "execution_count": 10,
   "id": "9b540f42-cc49-4e73-8c0b-5ced6c2b7d6d",
   "metadata": {},
   "outputs": [
    {
     "name": "stdout",
     "output_type": "stream",
     "text": [
      "Index(['AD_Status', 'Treatment', 'Training', 'Memory'], dtype='object')\n"
     ]
    }
   ],
   "source": [
    "data = pd.read_csv(r\"C:\\Users\\DWIGHT JIRO\\Downloads\\Alzheimers Mice Data.csv\")\n",
    "\n",
    "print(data.columns)\n"
   ]
  },
  {
   "cell_type": "markdown",
   "id": "f2a92ddf-0d3b-43b6-b9cf-399f3e708346",
   "metadata": {},
   "source": [
    "Assumption 1: The dependent variable must be measured on a continuous scale, meaning it should be either an interval or ratio variable.\n",
    "\n",
    "Assumption 2: The two independent variables must each consist of two or more distinct, independent categories or groups.\n",
    "\n",
    "Assumption 3: Observations must be independent of each other, indicating that there is no relationship between observations within a group or between different groups.\n",
    "\n",
    "Assumption 4: There should be no significant outliers in the data.\n",
    "\n",
    "Assumption 5: The dependent variable should follow a roughly normal distribution within each combination of the groups formed by the two independent variables.\n",
    "\n",
    "Assumption 6: There must be equal variances (homogeneity of variances) across each combination of the groups formed by the two independent variables."
   ]
  },
  {
   "cell_type": "markdown",
   "id": "818b6a72-53fa-4454-8609-367942b78e5a",
   "metadata": {},
   "source": []
  },
  {
   "cell_type": "markdown",
   "id": "83b3346a-8f01-4f9d-a10b-da7a9d0e9ae5",
   "metadata": {},
   "source": [
    "# Assumption 1:"
   ]
  },
  {
   "cell_type": "code",
   "execution_count": 11,
   "id": "a4ca10e3-8538-43d1-b31a-fb4516444886",
   "metadata": {},
   "outputs": [
    {
     "name": "stdout",
     "output_type": "stream",
     "text": [
      "The dependent variable 'Training' is continuous and quantitative (interval/ratio scale).\n",
      "The independent variable 'AD_Status' is not categorical.\n",
      "The independent variable 'Treatment' is not categorical.\n",
      "\n",
      "'AD_Status' has two levels: '1' for Alzheimer's Disease and '2' for No Alzheimer's Disease.\n",
      "\n",
      "'Treatment' has four levels: '1', '2', '3', and '4'.\n"
     ]
    }
   ],
   "source": [
    "# Check the type of the dependent variable\n",
    "dependent_var = 'Training'\n",
    "independent_vars = ['AD_Status', 'Treatment']\n",
    "\n",
    "# Check if the dependent variable is continuous (either interval or ratio)\n",
    "if data[dependent_var].dtype in ['float64', 'int64']:\n",
    "    print(f\"The dependent variable '{dependent_var}' is continuous and quantitative (interval/ratio scale).\")\n",
    "else:\n",
    "    print(f\"The dependent variable '{dependent_var}' is not continuous.\")\n",
    "\n",
    "# Check the data types for independent variables to confirm they are categorical\n",
    "for var in independent_vars:\n",
    "    if data[var].dtype == 'object' or data[var].dtype == 'category':\n",
    "        print(f\"The independent variable '{var}' is categorical.\")\n",
    "    else:\n",
    "        print(f\"The independent variable '{var}' is not categorical.\")\n",
    "\n",
    "# Check if the independent variable 'AD_Status' has two levels\n",
    "if len(data['AD_Status'].unique()) == 2:\n",
    "    print(\"\\n'AD_Status' has two levels: '1' for Alzheimer's Disease and '2' for No Alzheimer's Disease.\")\n",
    "else:\n",
    "    print(\"\\n'AD_Status' does not have exactly two levels.\")\n",
    "\n",
    "# Check if the independent variable 'Treatment' has four levels\n",
    "if len(data['Treatment'].unique()) == 4:\n",
    "    print(\"\\n'Treatment' has four levels: '1', '2', '3', and '4'.\")\n",
    "else:\n",
    "    print(\"\\n'Treatment' does not have exactly four levels.\")\n"
   ]
  },
  {
   "cell_type": "markdown",
   "id": "fc181589-9ab6-4bad-9e59-e3ee122350c4",
   "metadata": {},
   "source": [
    "The dependent variable, Training, is measured at the continuous level."
   ]
  },
  {
   "cell_type": "markdown",
   "id": "06846364-d071-44a0-80bb-1e1d4d2b82b8",
   "metadata": {},
   "source": [
    "# Assumption 2: "
   ]
  },
  {
   "cell_type": "markdown",
   "id": "584d7b14-b38c-4b56-a23a-6697411fadb5",
   "metadata": {},
   "source": [
    "# Dependent and Independent Variables\n",
    "\n",
    "\n",
    "The dependent variable was called “Training Day Error ” as this is continuous and\n",
    "quantitative, since it can be measured on a scale and can take values with decimal places.\n",
    "\n",
    "Independent Variable:\n",
    "AD status: This is a categorical variable with two levels such as “1” and “2”. \n",
    "\n",
    "1- Alzheimer's Disease\n",
    "2- No Alzheimer's Disease\n",
    "\n",
    "treatment: This is also a categorical variable with three levels such as\n",
    "“1”, “2”, “3” and \"4\""
   ]
  },
  {
   "cell_type": "markdown",
   "id": "a4ab706c-7be2-4f02-a11b-2805a0e01ba6",
   "metadata": {},
   "source": [
    "# Assumption 3:"
   ]
  },
  {
   "cell_type": "markdown",
   "id": "3a70b91d",
   "metadata": {},
   "source": [
    "Remark. Each observation is independent of each other as there is no relationship between\n",
    "the observations in each group of the independent variable or between the groups themselves"
   ]
  },
  {
   "cell_type": "markdown",
   "id": "75607ca8-4181-474e-a809-904aeb52fd45",
   "metadata": {},
   "source": [
    "The independence of observation is observed."
   ]
  },
  {
   "cell_type": "markdown",
   "id": "87fe5bb5-b7ed-4bd7-bc9f-3fb19b000929",
   "metadata": {},
   "source": [
    "# Assumption 4: "
   ]
  },
  {
   "cell_type": "code",
   "execution_count": 28,
   "id": "480e742e-440b-4146-aa54-e31aef143fb9",
   "metadata": {},
   "outputs": [
    {
     "data": {
      "image/png": "[encoded data removed]",
      "text/plain": [
       "<Figure size 1800x600 with 2 Axes>"
      ]
     },
     "metadata": {},
     "output_type": "display_data"
    }
   ],
   "source": [
    "import matplotlib.pyplot as plt\n",
    "import seaborn as sns\n",
    "\n",
    "# Set a dark, modern style for the plot\n",
    "sns.set(style=\"darkgrid\", palette=\"muted\")\n",
    "\n",
    "# Create the figure with a side-by-side subplot layout\n",
    "fig, axes = plt.subplots(1, 2, figsize=(18, 6))  # 1 row, 2 columns\n",
    "\n",
    "# Create a barplot for 'Training' across 'AD_Status' and 'Treatment'\n",
    "sns.barplot(x='AD_Status', y='Training', hue='Treatment', data=data,\n",
    "            palette=\"Set2\", ci=None, edgecolor='black', ax=axes[0])\n",
    "\n",
    "# Customize the barplot title and labels\n",
    "axes[0].set_title('Training Day Errors by AD Status and Treatment (Barplot)', fontsize=18, fontweight='bold', color='white')\n",
    "axes[0].set_xlabel('AD Status', fontsize=14, fontweight='bold', color='white')\n",
    "axes[0].set_ylabel('Training Day Errors', fontsize=14, fontweight='bold', color='white')\n",
    "\n",
    "# Add a grid and legend to the barplot\n",
    "axes[0].grid(True, linestyle='-', linewidth=0.5, color='gray')\n",
    "axes[0].legend(title='Treatment', loc='upper left', fontsize=12, title_fontsize=14)\n",
    "\n",
    "# Create a boxplot for the same data to detect outliers\n",
    "sns.boxplot(x='AD_Status', y='Training', hue='Treatment', data=data,\n",
    "            palette=\"Set2\", ax=axes[1], width=0.6, fliersize=10, linewidth=1.5,\n",
    "            boxprops=dict(facecolor='lightseagreen', edgecolor='darkslategray'),\n",
    "            medianprops=dict(color='gold', linewidth=2))\n",
    "\n",
    "# Customize the boxplot title and labels\n",
    "axes[1].set_title('Training Day Errors by AD Status and Treatment (Boxplot)', fontsize=18, fontweight='bold', color='white')\n",
    "axes[1].set_xlabel('AD Status', fontsize=14, fontweight='bold', color='white')\n",
    "axes[1].set_ylabel('Training Day Errors', fontsize=14, fontweight='bold', color='white')\n",
    "\n",
    "# Adjust layout to make the plots fit well\n",
    "plt.tight_layout()\n",
    "\n",
    "# Show the plot with both barplot and boxplot\n",
    "plt.show()\n",
    "\n",
    "\n"
   ]
  },
  {
   "cell_type": "markdown",
   "id": "7c662429-683c-4191-8124-17ae50bc5613",
   "metadata": {},
   "source": [
    "### No significant outliers"
   ]
  },
  {
   "cell_type": "markdown",
   "id": "fbd22e24-35aa-4f79-b272-171312a334d8",
   "metadata": {},
   "source": [
    "# Assumption 5: "
   ]
  },
  {
   "cell_type": "code",
   "execution_count": 29,
   "id": "b6121f59-1674-43be-a7a8-9e8bdd050227",
   "metadata": {},
   "outputs": [
    {
     "name": "stdout",
     "output_type": "stream",
     "text": [
      "Shapiro-Wilk Test p-values:\n",
      "AD Status: 1, Treatment: 1, p-value: 0.4211485683917999\n",
      "AD Status: 1, Treatment: 2, p-value: 0.4211485683917999\n",
      "AD Status: 1, Treatment: 3, p-value: 0.9276362061500549\n",
      "AD Status: 1, Treatment: 4, p-value: 0.8139519691467285\n",
      "AD Status: 2, Treatment: 1, p-value: 0.25384601950645447\n",
      "AD Status: 2, Treatment: 2, p-value: 0.3772224485874176\n",
      "AD Status: 2, Treatment: 3, p-value: 0.9276362061500549\n",
      "AD Status: 2, Treatment: 4, p-value: 0.8139519691467285\n"
     ]
    }
   ],
   "source": [
    "from scipy import stats\n",
    "\n",
    "# Shapiro-Wilk Test for Normality\n",
    "print(\"Shapiro-Wilk Test p-values:\")\n",
    "for status in data['AD_Status'].unique():\n",
    "    for treatment in data['Treatment'].unique():\n",
    "        subset = data[(data['AD_Status'] == status) & (data['Treatment'] == treatment)]\n",
    "        p_value = stats.shapiro(subset['Training'])[1]\n",
    "        print(f\"AD Status: {status}, Treatment: {treatment}, p-value: {p_value}\")\n"
   ]
  },
  {
   "cell_type": "markdown",
   "id": "46c46979-92d3-46ef-84f7-ed44cc393e06",
   "metadata": {},
   "source": [
    "### The dependent variable, training, is approximately normally distributed for each combination of the groups of AD_status and treatment, as assessed by Shapiro-Wilk test of normality, (p > 0.05)."
   ]
  },
  {
   "cell_type": "markdown",
   "id": "efb01b09-34a5-47f1-abff-34482a9b50ec",
   "metadata": {},
   "source": [
    "# Assumption 6:"
   ]
  },
  {
   "cell_type": "code",
   "execution_count": 30,
   "id": "1109081b-e7ca-4080-92b9-1f817d545b48",
   "metadata": {},
   "outputs": [
    {
     "name": "stdout",
     "output_type": "stream",
     "text": [
      "Levene's Test p-value:\n",
      "Statistic: 0.4346076458752513, p-value: 0.8730505780891101\n"
     ]
    }
   ],
   "source": [
    "# Levene's Test for Homogeneity of Variance\n",
    "print(\"Levene's Test p-value:\")\n",
    "\n",
    "# Group data by AD_Status and Treatment\n",
    "grouped_data = [group['Training'] for _, group in data.groupby(['AD_Status', 'Treatment'])]\n",
    "\n",
    "# Perform Levene's Test\n",
    "stat, p_value = stats.levene(*grouped_data)\n",
    "\n",
    "print(f\"Statistic: {stat}, p-value: {p_value}\")\n",
    "\n"
   ]
  },
  {
   "cell_type": "code",
   "execution_count": null,
   "id": "eec732d3",
   "metadata": {},
   "outputs": [],
   "source": []
  },
  {
   "cell_type": "markdown",
   "id": "1fa10e55-e221-4a79-96e9-8921525bf1c0",
   "metadata": {},
   "source": [
    "# Computation"
   ]
  },
  {
   "cell_type": "code",
   "execution_count": 56,
   "id": "afca75f4-b0ab-4df7-a560-7c01c70fc3a1",
   "metadata": {},
   "outputs": [
    {
     "name": "stdout",
     "output_type": "stream",
     "text": [
      "                             df  sum_sq  mean_sq         F    PR(>F)\n",
      "C(AD_Status)                1.0   3.025   3.0250  1.216080  0.278356\n",
      "C(Treatment)                3.0  28.275   9.4250  3.788945  0.019678\n",
      "C(AD_Status):C(Treatment)   3.0   9.075   3.0250  1.216080  0.319771\n",
      "Residual                   32.0  79.600   2.4875       NaN       NaN\n"
     ]
    }
   ],
   "source": [
    "model = ols('Training ~ C(AD_Status) * C(Treatment)', data=data).fit()\n",
    "\n",
    "# Perform the ANOVA\n",
    "anova_result = anova_lm(model)\n",
    "\n",
    "# Display the ANOVA result\n",
    "print(anova_result)"
   ]
  },
  {
   "cell_type": "markdown",
   "id": "37826488-6c46-4cd7-b439-0a1840fa7b1a",
   "metadata": {},
   "source": [
    "Key Points:\n",
    "\n",
    "AD_Status\n",
    "\n",
    "p-value = 0.278\n",
    "Interpretation: Not statistically significant (p > 0.05). This means AD_Status (whether the mice have Alzheimer's or not) does not significantly affect Training Day Errors\n",
    "\n",
    "Treatment\n",
    "\n",
    "p-value = 0.0197\n",
    "Interpretation: Statistically significant (p < 0.05). This indicates that Treatment (the different drug treatments) significantly affects Training Day Errors.\n",
    "\n",
    "Interaction (AD_Status × Treatment)\n",
    "\n",
    "p-value = 0.3197\n",
    "Interpretation: Not statistically significant (p > 0.05). This suggests the effect of Treatment on Training Day Errors is not dependent on AD_Status, meaning there is no significant interaction between the two factors."
   ]
  },
  {
   "cell_type": "markdown",
   "id": "dde38c80-bcd0-48c0-b58a-932f5027f4d6",
   "metadata": {},
   "source": [
    "As Treatment is significant (p-value < 0.05), we can conclude that different treatments result in varying training day errors. However, both AD_Status and the interaction between AD_Status and Treatment are not significant, indicating that AD_Status does not have a notable impact, and the treatments do not vary in their effects based on whether the mice have Alzheimer's.\n"
   ]
  },
  {
   "cell_type": "code",
   "execution_count": 32,
   "id": "2b96dc1b-a94d-471d-bb2e-df94a2cb9a4c",
   "metadata": {},
   "outputs": [
    {
     "name": "stdout",
     "output_type": "stream",
     "text": [
      "Multiple Comparison of Means - Tukey HSD, FWER=0.05 \n",
      "====================================================\n",
      "group1 group2 meandiff p-adj   lower   upper  reject\n",
      "----------------------------------------------------\n",
      "     1      2      1.5  0.172 -0.4223  3.4223  False\n",
      "     1      3      0.9 0.5931 -1.0223  2.8223  False\n",
      "     1      4     -0.7 0.7612 -2.6223  1.2223  False\n",
      "     2      3     -0.6 0.8347 -2.5223  1.3223  False\n",
      "     2      4     -2.2 0.0196 -4.1223 -0.2777   True\n",
      "     3      4     -1.6 0.1314 -3.5223  0.3223  False\n",
      "----------------------------------------------------\n"
     ]
    },
    {
     "data": {
      "image/png": "[encoded data removed]",
      "text/plain": [
       "<Figure size 1000x600 with 1 Axes>"
      ]
     },
     "metadata": {},
     "output_type": "display_data"
    }
   ],
   "source": [
    "import matplotlib.pyplot as plt\n",
    "import seaborn as sns\n",
    "import pandas as pd\n",
    "from statsmodels.stats.multicomp import pairwise_tukeyhsd\n",
    "\n",
    "# Perform Tukey's HSD test\n",
    "tukey_result = pairwise_tukeyhsd(data['Training'], data['Treatment'], alpha=0.05)\n",
    "\n",
    "# Print the result of Tukey's test\n",
    "print(tukey_result)\n",
    "\n",
    "# Extract the Tukey results into a DataFrame\n",
    "tukey_df = pd.DataFrame(tukey_result.summary().data[1:], columns=[\"Group1\", \"Group2\", \"Mean Difference\", \"Lower CI\", \"Upper CI\", \"P-Value\", \"Reject\"])\n",
    "\n",
    "# Set the figure size\n",
    "plt.figure(figsize=(10, 6))\n",
    "\n",
    "# Create a bar plot for the mean differences with confidence intervals\n",
    "sns.barplot(x=\"Mean Difference\", y=\"Group1\", data=tukey_df, color='skyblue', edgecolor='black')\n",
    "\n",
    "# Add the confidence intervals to the plot\n",
    "for i, row in tukey_df.iterrows():\n",
    "    plt.plot([row['Lower CI'], row['Upper CI']], [i, i], color='black', lw=2)  # CI line\n",
    "\n",
    "# Add labels and title\n",
    "plt.xlabel('Mean Difference in Training Day Errors')\n",
    "plt.ylabel('Treatment Groups')\n",
    "plt.title('Tukey HSD Test Results: Pairwise Comparisons of Treatment Effects')\n",
    "\n",
    "# Show the plot\n",
    "plt.tight_layout()\n",
    "plt.show()\n",
    "\n",
    "\n"
   ]
  },
  {
   "cell_type": "markdown",
   "id": "7374b043-d8d0-4460-add0-70f03142ee78",
   "metadata": {},
   "source": [
    "Key Insights: \n",
    "\n",
    "There is a significant difference in Training Day Errors between Treatment 2 and Treatment 4 (p = 0.0196). This indicates that the effects of Treatment 2 and Treatment 4 on Training Day Errors differ significantly, with Treatment 2 showing a mean 2.2 errors lower than Treatment 4. For all other treatment pairs (e.g., 1 vs 2, 1 vs 3), the p-values exceed 0.05, meaning there is no significant difference between those treatments."
   ]
  },
  {
   "cell_type": "markdown",
   "id": "1676b125-309f-4d90-953c-28bd36efdab3",
   "metadata": {},
   "source": [
    "### FINAL REPORT\n",
    "\n",
    "This study examined how different treatments affect Training Day Errors in mice with and without Alzheimer's Disease (AD). The average Training Day Errors for each treatment are as follows:\n",
    "\n",
    "Treatment 1: Mean = 14.15 ± 0.92\n",
    "Treatment 2: Mean = 15.65 ± 1.14\n",
    "Treatment 3: Mean = 15.05 ± 1.01\n",
    "Treatment 4: Mean = 12.45 ± 1.45\n",
    "Results from Tukey’s HSD post-hoc test indicated that Treatment 2 caused significantly more Training Day Errors than Treatment 4 (mean difference = 2.2, 95% CI: -4.12 to -0.28, p = 0.0196). No significant differences were found between other treatment combinations (e.g., Treatment 1 vs. Treatment 2, Treatment 1 vs. Treatment 3, etc.).\n",
    "\n",
    "In conclusion, while Treatment 4 resulted in fewer Training Day Errors compared to Treatment 2, no significant differences were observed among the other treatments. This suggests that Treatment 4 may be more effective in reducing Training Day Errors than Treatment 2.\n"
   ]
  },
  {
   "cell_type": "code",
   "execution_count": null,
   "id": "2049df18",
   "metadata": {},
   "outputs": [],
   "source": []
  }
 ],
 "metadata": {
  "kernelspec": {
   "display_name": "Python 3 (ipykernel)",
   "language": "python",
   "name": "python3"
  },
  "language_info": {
   "codemirror_mode": {
    "name": "ipython",
    "version": 3
   },
   "file_extension": ".py",
   "mimetype": "text/x-python",
   "name": "python",
   "nbconvert_exporter": "python",
   "pygments_lexer": "ipython3",
   "version": "3.9.13"
  }
 },
 "nbformat": 4,
 "nbformat_minor": 5
}
