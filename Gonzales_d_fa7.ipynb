{
 "cells": [
  {
   "cell_type": "code",
   "execution_count": 53,
   "id": "f230e23f",
   "metadata": {},
   "outputs": [
    {
     "data": {
      "text/plain": [
       "Participant    int64\n",
       "Cloak          int64\n",
       "Mischief       int64\n",
       "dtype: object"
      ]
     },
     "execution_count": 53,
     "metadata": {},
     "output_type": "execute_result"
    }
   ],
   "source": [
    "\n",
    "# Assumption 1: The dependent variable (Mischief) is a continuous level\n",
    "\n",
    "\n",
    "import pandas as pd\n",
    "import seaborn as sns\n",
    "import matplotlib.pyplot as plt\n",
    "\n",
    "data = {\n",
    "    'Participant': list(range(1, 25)),\n",
    "    'Cloak': [0] * 12 + [1] * 12,\n",
    "    'Mischief': [3, 1, 5, 4, 6, 4, 6, 2, 0, 5, 4, 5, \n",
    "                 4, 3, 6, 6, 8, 5, 5, 4, 2, 5, 7, 5]\n",
    "}\n",
    "\n",
    "df = pd.DataFrame(data)\n",
    "\n",
    "df.dtypes\n"
   ]
  },
  {
   "cell_type": "code",
   "execution_count": 51,
   "id": "7254b556",
   "metadata": {},
   "outputs": [
    {
     "name": "stdout",
     "output_type": "stream",
     "text": [
      "[0 1]\n"
     ]
    }
   ],
   "source": [
    "# Assumption 2: The independent variable consists of two categorical independent grouops\n",
    "\n",
    "\n",
    "\n",
    "print(df['Cloak'].unique())\n"
   ]
  },
  {
   "cell_type": "code",
   "execution_count": 52,
   "id": "46c13517",
   "metadata": {},
   "outputs": [
    {
     "name": "stdout",
     "output_type": "stream",
     "text": [
      "No duplicate participants. Each participant is in only one group.\n"
     ]
    }
   ],
   "source": [
    "# Assumption 3: Each participant is present to only one group\n",
    "\n",
    "\n",
    "\n",
    "duplicates = df[df.duplicated(subset='Participant', keep=False)]\n",
    "if not duplicates.empty:\n",
    "    print(\"Duplicate Participants found:\")\n",
    "    print(duplicates)\n",
    "else:\n",
    "    print(\"No duplicate participants. Each participant is in only one group.\")\n",
    "\n",
    "\n"
   ]
  },
  {
   "cell_type": "code",
   "execution_count": 13,
   "id": "eaeff37d",
   "metadata": {},
   "outputs": [
    {
     "data": {
      "image/png": "[encoded data removed]",
      "text/plain": [
       "<Figure size 800x600 with 1 Axes>"
      ]
     },
     "metadata": {},
     "output_type": "display_data"
    }
   ],
   "source": [
    "# Assumption 4: no significant outliers in the two groups of independent\n",
    "\n",
    "import matplotlib.pyplot as plt\n",
    "import seaborn as sns\n",
    "\n",
    "plt.figure(figsize=(8, 6))\n",
    "sns.boxplot(x='Cloak', y='Mischief', data=df)\n",
    "plt.title('Boxplot of Mischievous Acts by Cloak Status')\n",
    "plt.show()\n"
   ]
  },
  {
   "cell_type": "code",
   "execution_count": 14,
   "id": "4c678c58",
   "metadata": {},
   "outputs": [
    {
     "name": "stdout",
     "output_type": "stream",
     "text": [
      "Shapiro-Wilk test for cloak group: p-value = 0.9362\n",
      "Shapiro-Wilk test for no-cloak group: p-value = 0.2314\n"
     ]
    }
   ],
   "source": [
    "# Assumption : Test for Normality\n",
    "\n",
    "\n",
    "from scipy.stats import shapiro\n",
    "\n",
    "cloak_group = df[df['Cloak'] == 1]['Mischief']\n",
    "no_cloak_group = df[df['Cloak'] == 0]['Mischief']\n",
    "\n",
    "shapiro_cloak = shapiro(cloak_group)\n",
    "shapiro_no_cloak = shapiro(no_cloak_group)\n",
    "\n",
    "print(f\"Shapiro-Wilk test for cloak group: p-value = {shapiro_cloak.pvalue:.4f}\")\n",
    "print(f\"Shapiro-Wilk test for no-cloak group: p-value = {shapiro_no_cloak.pvalue:.4f}\")\n",
    "\n",
    "# Normal distribution\n"
   ]
  },
  {
   "cell_type": "code",
   "execution_count": 49,
   "id": "9909bdb1",
   "metadata": {},
   "outputs": [
    {
     "name": "stdout",
     "output_type": "stream",
     "text": [
      "t-statistic: 1.7135, p-value: 0.1007\n"
     ]
    }
   ],
   "source": [
    "# Independet T-Test\n",
    "\n",
    "from scipy.stats import ttest_ind\n",
    "\n",
    "\n",
    "t_stat, p_value = ttest_ind(cloak_group, no_cloak_group)\n",
    "\n",
    "print(f\"t-statistic: {t_stat:.4f}, p-value: {p_value:.4f}\")\n"
   ]
  },
  {
   "cell_type": "markdown",
   "id": "a6e22660",
   "metadata": {},
   "source": [
    "## Conclusion\n",
    "\n",
    "In summary, while there might be some indication of a difference in behavior due to the invisibility cloak, the lack of statistical significance (p > 0.05) means we cannot confidently conclude that the cloak affects mischievous behavior. More data or a different experimental design might be needed to draw more definitive conclusions."
   ]
  },
  {
   "cell_type": "markdown",
   "id": "3ad9617f",
   "metadata": {},
   "source": [
    "\n"
   ]
  },
  {
   "cell_type": "code",
   "execution_count": null,
   "id": "4bababfc",
   "metadata": {},
   "outputs": [],
   "source": []
  }
 ],
 "metadata": {
  "kernelspec": {
   "display_name": "Python 3 (ipykernel)",
   "language": "python",
   "name": "python3"
  },
  "language_info": {
   "codemirror_mode": {
    "name": "ipython",
    "version": 3
   },
   "file_extension": ".py",
   "mimetype": "text/x-python",
   "name": "python",
   "nbconvert_exporter": "python",
   "pygments_lexer": "ipython3",
   "version": "3.9.13"
  }
 },
 "nbformat": 4,
 "nbformat_minor": 5
}
